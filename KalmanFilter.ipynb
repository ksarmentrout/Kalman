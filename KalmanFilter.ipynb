{
 "cells": [
  {
   "cell_type": "code",
   "execution_count": 1,
   "metadata": {
    "collapsed": false
   },
   "outputs": [
    {
     "ename": "LoadError",
     "evalue": "LoadError: ArgumentError: Winston not found in path\nwhile loading In[1], in expression starting on line 1",
     "output_type": "error",
     "traceback": [
      "LoadError: ArgumentError: Winston not found in path\nwhile loading In[1], in expression starting on line 1",
      "",
      " in require at /Applications/Julia-0.4.3.app/Contents/Resources/julia/lib/julia/sys.dylib"
     ]
    }
   ],
   "source": [
    "using PyPlot\n",
    "\n",
    "type State\n",
    "    mean::Float\n",
    "    var::Float\n",
    "end\n",
    "\n",
    "function kalman()\n",
    "    \n",
    "end\n",
    "\n",
    "y = map(y->Vector([y]), -0.37727 + 0.1*randn(50))\n",
    "mean_trace = ones(50)\n",
    "var_trace = ones(50)\n",
    "\n",
    "for i = 1:49\n",
    "    predictupdate!(kf,y[i])\n",
    "    mean_trace[i+1] = kf.x.x[1]\n",
    "    var_trace[i+1] = kf.x.p[1]\n",
    "end\n",
    "\n"
   ]
  },
  {
   "cell_type": "code",
   "execution_count": null,
   "metadata": {
    "collapsed": false
   },
   "outputs": [],
   "source": []
  },
  {
   "cell_type": "code",
   "execution_count": null,
   "metadata": {
    "collapsed": true
   },
   "outputs": [],
   "source": []
  }
 ],
 "metadata": {
  "kernelspec": {
   "display_name": "Julia 0.4.3",
   "language": "julia",
   "name": "julia-0.4"
  },
  "language_info": {
   "file_extension": ".jl",
   "mimetype": "application/julia",
   "name": "julia",
   "version": "0.4.3"
  }
 },
 "nbformat": 4,
 "nbformat_minor": 0
}
